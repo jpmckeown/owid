{
 "cells": [
  {
   "cell_type": "code",
   "execution_count": 5,
   "id": "325c69e2",
   "metadata": {},
   "outputs": [],
   "source": [
    "import numpy as np\n",
    "import pandas as pd\n",
    "import openpyxl as xl\n",
    "import matplotlib.pyplot as plt\n",
    "import seaborn as sns\n",
    "import plotly.express as px"
   ]
  },
  {
   "cell_type": "code",
   "execution_count": 11,
   "id": "0c031153",
   "metadata": {},
   "outputs": [
    {
     "name": "stdout",
     "output_type": "stream",
     "text": [
      "['Index', 'Variant', 'Region, subregion, country or area *', 'Notes', 'Location code', 'ISO3 Alpha-code', 'ISO2 Alpha-code', 'SDMX code**', 'Type', 'Parent code', 'Year', 'Total Population, as of 1 January (thousands)', 'Total Population, as of 1 July (thousands)', 'Male Population, as of 1 July (thousands)', 'Female Population, as of 1 July (thousands)', 'Population Density, as of 1 July (persons per square km)', 'Population Sex Ratio, as of 1 July (males per 100 females)', 'Median Age, as of 1 July (years)', 'Natural Change, Births minus Deaths (thousands)', 'Rate of Natural Change (per 1,000 population)', 'Population Change (thousands)', 'Population Growth Rate (percentage)', 'Population Annual Doubling Time (years)', 'Births (thousands)', 'Births by women aged 15 to 19 (thousands)', 'Crude Birth Rate (births per 1,000 population)', 'Total Fertility Rate (live births per woman)', 'Net Reproduction Rate (surviving daughters per woman)', 'Mean Age Childbearing (years)', 'Sex Ratio at Birth (males per 100 female births)', 'Total Deaths (thousands)', 'Male Deaths (thousands)', 'Female Deaths (thousands)', 'Crude Death Rate (deaths per 1,000 population)', 'Life Expectancy at Birth, both sexes (years)', 'Male Life Expectancy at Birth (years)', 'Female Life Expectancy at Birth (years)', 'Life Expectancy at Age 15, both sexes (years)', 'Male Life Expectancy at Age 15 (years)', 'Female Life Expectancy at Age 15 (years)', 'Life Expectancy at Age 65, both sexes (years)', 'Male Life Expectancy at Age 65 (years)', 'Female Life Expectancy at Age 65 (years)', 'Life Expectancy at Age 80, both sexes (years)', 'Male Life Expectancy at Age 80 (years)', 'Female Life Expectancy at Age 80 (years)', 'Infant Deaths, under age 1 (thousands)', 'Infant Mortality Rate (infant deaths per 1,000 live births)', 'Live Births Surviving to Age 1 (thousands)', 'Under-Five Deaths, under age 5 (thousands)', 'Under-Five Mortality (deaths under age 5 per 1,000 live births)', 'Mortality before Age 40, both sexes (deaths under age 40 per 1,000 live births)', 'Male Mortality before Age 40 (deaths under age 40 per 1,000 male live births)', 'Female Mortality before Age 40 (deaths under age 40 per 1,000 female live births)', 'Mortality before Age 60, both sexes (deaths under age 60 per 1,000 live births)', 'Male Mortality before Age 60 (deaths under age 60 per 1,000 male live births)', 'Female Mortality before Age 60 (deaths under age 60 per 1,000 female live births)', 'Mortality between Age 15 and 50, both sexes (deaths under age 50 per 1,000 alive at age 15)', 'Male Mortality between Age 15 and 50 (deaths under age 50 per 1,000 males alive at age 15)', 'Female Mortality between Age 15 and 50 (deaths under age 50 per 1,000 females alive at age 15)', 'Mortality between Age 15 and 60, both sexes (deaths under age 60 per 1,000 alive at age 15)', 'Male Mortality between Age 15 and 60 (deaths under age 60 per 1,000 males alive at age 15)', 'Female Mortality between Age 15 and 60 (deaths under age 60 per 1,000 females alive at age 15)', 'Net Number of Migrants (thousands)', 'Net Migration Rate (per 1,000 population)']\n"
     ]
    }
   ],
   "source": [
    "wpp = pd.read_excel(\"data/WPP2022_GEN_F01_DEMOGRAPHIC_INDICATORS_COMPACT_REV1.xlsx\", skiprows=16)\n",
    "print(wpp.columns.tolist())"
   ]
  },
  {
   "cell_type": "code",
   "execution_count": 35,
   "id": "8c7460bf",
   "metadata": {},
   "outputs": [
    {
     "name": "stdout",
     "output_type": "stream",
     "text": [
      "['Country', 'Year', 'Population', 'CDR']\n"
     ]
    }
   ],
   "source": [
    "wpp_originalColNames = pd.read_excel(\"data/WPP2022_GEN_F01_DEMOGRAPHIC_INDICATORS_COMPACT_REV1.xlsx\", skiprows=16, usecols=['Region, subregion, country or area *', 'Year', 'Total Population, as of 1 July (thousands)', 'Crude Death Rate (deaths per 1,000 population)'])\n",
    "print(wpp.columns.tolist())"
   ]
  },
  {
   "cell_type": "code",
   "execution_count": 36,
   "id": "8b389405",
   "metadata": {},
   "outputs": [
    {
     "name": "stdout",
     "output_type": "stream",
     "text": [
      "['Country', 'Year', 'Population', 'CDR']\n"
     ]
    }
   ],
   "source": [
    "wpp = wpp_originalColNames.rename(columns={\n",
    "    'Region, subregion, country or area *': 'Country',\n",
    "    'Total Population, as of 1 July (thousands)': 'Population',\n",
    "    'Crude Death Rate (deaths per 1,000 population)': 'CDR'\n",
    "})\n",
    "print(wpp.columns.tolist())"
   ]
  },
  {
   "cell_type": "code",
   "execution_count": 37,
   "id": "055ae944",
   "metadata": {},
   "outputs": [
    {
     "name": "stdout",
     "output_type": "stream",
     "text": [
      "Country             WORLD\n",
      "Year               1950.0\n",
      "Population    2499322.157\n",
      "CDR                19.518\n",
      "Name: 0, dtype: object\n"
     ]
    }
   ],
   "source": [
    "print(wpp.iloc[0])"
   ]
  },
  {
   "cell_type": "code",
   "execution_count": 38,
   "id": "63d756ef",
   "metadata": {},
   "outputs": [],
   "source": [
    "# 'Year' is blank cell in row between each country\n",
    "# prepare to restore Year to 4-digit form\n",
    "wpp.dropna(subset=['Year'], inplace=True)"
   ]
  },
  {
   "cell_type": "code",
   "execution_count": 39,
   "id": "95266c11",
   "metadata": {},
   "outputs": [
    {
     "name": "stdout",
     "output_type": "stream",
     "text": [
      "1950\n"
     ]
    }
   ],
   "source": [
    "wpp['Year'] = wpp['Year'].astype(int)\n",
    "print(wpp.iloc[0]['Year'])"
   ]
  },
  {
   "cell_type": "code",
   "execution_count": 43,
   "id": "dfb90fa1",
   "metadata": {},
   "outputs": [
    {
     "name": "stdout",
     "output_type": "stream",
     "text": [
      "                        Country  Year  Population     CDR\n",
      "2884                     Uganda  1950    5750.637  25.067\n",
      "2885                     Uganda  1951    5909.819  24.859\n",
      "2886                     Uganda  1952    6073.833   24.36\n",
      "2887                     Uganda  1953    6243.883  23.845\n",
      "2888                     Uganda  1954    6419.882  23.318\n",
      "...                         ...   ...         ...     ...\n",
      "18575  United States of America  2017  329791.231   8.424\n",
      "18576  United States of America  2018  332140.037   8.387\n",
      "18577  United States of America  2019  334319.671   8.325\n",
      "18578  United States of America  2020  335942.003   9.651\n",
      "18579  United States of America  2021  336997.624   9.743\n",
      "\n",
      "[144 rows x 4 columns]\n"
     ]
    }
   ],
   "source": [
    "# Filter USA and Uganda\n",
    "wpp_country_filter = wpp[(wpp['Country'] == 'United States of America') | (wpp['Country'] == 'Uganda')]\n",
    "print(wpp_country_filter)"
   ]
  },
  {
   "cell_type": "code",
   "execution_count": 46,
   "id": "29b62c90",
   "metadata": {},
   "outputs": [
    {
     "name": "stdout",
     "output_type": "stream",
     "text": [
      "                        Country  Year  Population    CDR\n",
      "2953                     Uganda  2019    42949.08  5.823\n",
      "18577  United States of America  2019  334319.671  8.325\n"
     ]
    }
   ],
   "source": [
    "# Filter year 2019\n",
    "WPP_2019 = wpp_country_filter[wpp_country_filter['Year'] == 2019]\n",
    "print(WPP_2019)"
   ]
  },
  {
   "cell_type": "code",
   "execution_count": 49,
   "id": "92dc0338",
   "metadata": {},
   "outputs": [
    {
     "name": "stdout",
     "output_type": "stream",
     "text": [
      "   Age group (years)  Death rate, United States, 2019  \\\n",
      "0                0-4                             0.04   \n",
      "1                5-9                             0.02   \n",
      "2              10-14                             0.02   \n",
      "3              15-19                             0.02   \n",
      "4              20-24                             0.06   \n",
      "5              25-29                             0.11   \n",
      "6              30-34                             0.29   \n",
      "7              35-39                             0.56   \n",
      "8              40-44                             1.42   \n",
      "9              45-49                             4.00   \n",
      "10             50-54                            14.13   \n",
      "11             55-59                            37.22   \n",
      "12             60-64                            66.48   \n",
      "13             65-69                           108.66   \n",
      "14             70-74                           213.10   \n",
      "15             75-79                           333.06   \n",
      "16             80-84                           491.10   \n",
      "17               85+                           894.45   \n",
      "\n",
      "    Death rate, Uganda, 2019  \n",
      "0                       0.40  \n",
      "1                       0.17  \n",
      "2                       0.07  \n",
      "3                       0.23  \n",
      "4                       0.38  \n",
      "5                       0.40  \n",
      "6                       0.75  \n",
      "7                       1.11  \n",
      "8                       2.04  \n",
      "9                       5.51  \n",
      "10                     13.26  \n",
      "11                     33.25  \n",
      "12                     69.62  \n",
      "13                    120.78  \n",
      "14                    229.88  \n",
      "15                    341.06  \n",
      "16                    529.31  \n",
      "17                    710.40  \n"
     ]
    }
   ],
   "source": [
    "COPD_original = pd.read_csv(\"data/COPD_age-specific_USA_Uganda_2019.csv\", skiprows=1, skipfooter=2, engine='python')\n",
    "print(COPD_original)"
   ]
  },
  {
   "cell_type": "code",
   "execution_count": 50,
   "id": "a73d3743",
   "metadata": {},
   "outputs": [
    {
     "name": "stdout",
     "output_type": "stream",
     "text": [
      "   Age group  Death rate, United States, 2019  Death rate, Uganda, 2019\n",
      "0        0-4                             0.04                      0.40\n",
      "1        5-9                             0.02                      0.17\n",
      "2      10-14                             0.02                      0.07\n",
      "3      15-19                             0.02                      0.23\n",
      "4      20-24                             0.06                      0.38\n",
      "5      25-29                             0.11                      0.40\n",
      "6      30-34                             0.29                      0.75\n",
      "7      35-39                             0.56                      1.11\n",
      "8      40-44                             1.42                      2.04\n",
      "9      45-49                             4.00                      5.51\n",
      "10     50-54                            14.13                     13.26\n",
      "11     55-59                            37.22                     33.25\n",
      "12     60-64                            66.48                     69.62\n",
      "13     65-69                           108.66                    120.78\n",
      "14     70-74                           213.10                    229.88\n",
      "15     75-79                           333.06                    341.06\n",
      "16     80-84                           491.10                    529.31\n",
      "17       85+                           894.45                    710.40\n"
     ]
    }
   ],
   "source": [
    "# harmonise age column name with WHO Standard Popualtion Distribution\n",
    "# COPD = COPD_original.copy()\n",
    "COPD = COPD_original.rename(columns={\n",
    "    'Age group (years)': 'Age group'\n",
    "})\n",
    "print(COPD)"
   ]
  },
  {
   "cell_type": "code",
   "execution_count": 55,
   "id": "63ea5233",
   "metadata": {},
   "outputs": [
    {
     "name": "stdout",
     "output_type": "stream",
     "text": [
      "   Age group  WHO World Standard (%)\n",
      "0        0-4                   8.860\n",
      "1        5-9                   8.690\n",
      "2      10-14                   8.600\n",
      "3      15-19                   8.470\n",
      "4      20-24                   8.220\n",
      "5      25-29                   7.930\n",
      "6      30-34                   7.610\n",
      "7      35-39                   7.150\n",
      "8      40-44                   6.590\n",
      "9      45-49                   6.040\n",
      "10     50-54                   5.370\n",
      "11     55-59                   4.550\n",
      "12     60-64                   3.720\n",
      "13     65-69                   2.960\n",
      "14     70-74                   2.210\n",
      "15     75-79                   1.520\n",
      "16     80-84                   0.910\n",
      "17     85-89                   0.440\n",
      "18     90-94                   0.150\n",
      "19     95-99                   0.040\n",
      "20      100+                   0.005\n"
     ]
    }
   ],
   "source": [
    "WHO_standard = pd.read_csv(\"data/WHO_World_Standard_from_NIH_NCI.csv\", usecols=['Age Group', 'WHO World Standard (%)'], skiprows=1, skipfooter=2, engine='python')\n",
    "WHO_standard = WHO_standard.rename(columns={\n",
    "    'Age Group': 'Age group'\n",
    "})\n",
    "print(WHO_standard)"
   ]
  },
  {
   "cell_type": "code",
   "execution_count": 56,
   "id": "cca45714",
   "metadata": {},
   "outputs": [
    {
     "name": "stdout",
     "output_type": "stream",
     "text": [
      "0.635\n"
     ]
    }
   ],
   "source": [
    "# COPD data's final row is age 85+\n",
    "# so for compatibility merge older cohorts in WHO_standard\n",
    "sum_percentage = WHO_standard.iloc[-4:]['WHO World Standard (%)'].sum()\n",
    "print(sum_percentage)\n",
    "\n",
    "# check: matches percentage in Ahmad et al paper's table 1 (0.63%)"
   ]
  },
  {
   "cell_type": "code",
   "execution_count": 57,
   "id": "e50e1c94",
   "metadata": {},
   "outputs": [
    {
     "name": "stdout",
     "output_type": "stream",
     "text": [
      "   Age group  WHO World Standard (%)\n",
      "0        0-4                   8.860\n",
      "1        5-9                   8.690\n",
      "2      10-14                   8.600\n",
      "3      15-19                   8.470\n",
      "4      20-24                   8.220\n",
      "5      25-29                   7.930\n",
      "6      30-34                   7.610\n",
      "7      35-39                   7.150\n",
      "8      40-44                   6.590\n",
      "9      45-49                   6.040\n",
      "10     50-54                   5.370\n",
      "11     55-59                   4.550\n",
      "12     60-64                   3.720\n",
      "13     65-69                   2.960\n",
      "14     70-74                   2.210\n",
      "15     75-79                   1.520\n",
      "16     80-84                   0.910\n",
      "17       85+                   0.635\n"
     ]
    }
   ],
   "source": [
    "# delete last 4 rows\n",
    "WHO_standard.drop(WHO_standard.index[-4:], inplace=True)\n",
    "new_row = pd.DataFrame({'Age group': ['85+'], 'WHO World Standard (%)': [sum_percentage]})\n",
    "WHO_standard = pd.concat([WHO_standard, new_row], ignore_index=True)\n",
    "# WHO_standard = pd.concat([WHO_standard.iloc[:-4], new_row], ignore_index=True)\n",
    "print(WHO_standard)"
   ]
  },
  {
   "cell_type": "code",
   "execution_count": null,
   "id": "ddbaf548",
   "metadata": {},
   "outputs": [],
   "source": [
    "# Now data components are ready, begin calculations.\n",
    "# COPD crude death rate\n"
   ]
  },
  {
   "cell_type": "code",
   "execution_count": null,
   "id": "d2193628",
   "metadata": {},
   "outputs": [],
   "source": []
  },
  {
   "cell_type": "code",
   "execution_count": null,
   "id": "8d5634d9",
   "metadata": {},
   "outputs": [],
   "source": []
  },
  {
   "cell_type": "code",
   "execution_count": null,
   "id": "62bd6341",
   "metadata": {},
   "outputs": [],
   "source": []
  },
  {
   "cell_type": "code",
   "execution_count": null,
   "id": "a3890fee",
   "metadata": {},
   "outputs": [],
   "source": []
  },
  {
   "cell_type": "code",
   "execution_count": null,
   "id": "1d8b8fb3",
   "metadata": {},
   "outputs": [],
   "source": []
  },
  {
   "cell_type": "code",
   "execution_count": null,
   "id": "ed0ef905",
   "metadata": {},
   "outputs": [],
   "source": []
  }
 ],
 "metadata": {
  "kernelspec": {
   "display_name": "Python [conda env:io_dsml]",
   "language": "python",
   "name": "conda-env-io_dsml-py"
  },
  "language_info": {
   "codemirror_mode": {
    "name": "ipython",
    "version": 3
   },
   "file_extension": ".py",
   "mimetype": "text/x-python",
   "name": "python",
   "nbconvert_exporter": "python",
   "pygments_lexer": "ipython3",
   "version": "3.11.6"
  }
 },
 "nbformat": 4,
 "nbformat_minor": 5
}
