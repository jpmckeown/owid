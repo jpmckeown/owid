{
 "cells": [
  {
   "cell_type": "code",
   "execution_count": 5,
   "id": "68f435cf",
   "metadata": {},
   "outputs": [],
   "source": [
    "import numpy as np\n",
    "import pandas as pd\n",
    "import openpyxl as xl\n",
    "import matplotlib.pyplot as plt\n",
    "import seaborn as sns\n",
    "import plotly.express as px"
   ]
  },
  {
   "cell_type": "code",
   "execution_count": 11,
   "id": "1f18c309",
   "metadata": {},
   "outputs": [
    {
     "name": "stdout",
     "output_type": "stream",
     "text": [
      "['Index', 'Variant', 'Region, subregion, country or area *', 'Notes', 'Location code', 'ISO3 Alpha-code', 'ISO2 Alpha-code', 'SDMX code**', 'Type', 'Parent code', 'Year', 'Total Population, as of 1 January (thousands)', 'Total Population, as of 1 July (thousands)', 'Male Population, as of 1 July (thousands)', 'Female Population, as of 1 July (thousands)', 'Population Density, as of 1 July (persons per square km)', 'Population Sex Ratio, as of 1 July (males per 100 females)', 'Median Age, as of 1 July (years)', 'Natural Change, Births minus Deaths (thousands)', 'Rate of Natural Change (per 1,000 population)', 'Population Change (thousands)', 'Population Growth Rate (percentage)', 'Population Annual Doubling Time (years)', 'Births (thousands)', 'Births by women aged 15 to 19 (thousands)', 'Crude Birth Rate (births per 1,000 population)', 'Total Fertility Rate (live births per woman)', 'Net Reproduction Rate (surviving daughters per woman)', 'Mean Age Childbearing (years)', 'Sex Ratio at Birth (males per 100 female births)', 'Total Deaths (thousands)', 'Male Deaths (thousands)', 'Female Deaths (thousands)', 'Crude Death Rate (deaths per 1,000 population)', 'Life Expectancy at Birth, both sexes (years)', 'Male Life Expectancy at Birth (years)', 'Female Life Expectancy at Birth (years)', 'Life Expectancy at Age 15, both sexes (years)', 'Male Life Expectancy at Age 15 (years)', 'Female Life Expectancy at Age 15 (years)', 'Life Expectancy at Age 65, both sexes (years)', 'Male Life Expectancy at Age 65 (years)', 'Female Life Expectancy at Age 65 (years)', 'Life Expectancy at Age 80, both sexes (years)', 'Male Life Expectancy at Age 80 (years)', 'Female Life Expectancy at Age 80 (years)', 'Infant Deaths, under age 1 (thousands)', 'Infant Mortality Rate (infant deaths per 1,000 live births)', 'Live Births Surviving to Age 1 (thousands)', 'Under-Five Deaths, under age 5 (thousands)', 'Under-Five Mortality (deaths under age 5 per 1,000 live births)', 'Mortality before Age 40, both sexes (deaths under age 40 per 1,000 live births)', 'Male Mortality before Age 40 (deaths under age 40 per 1,000 male live births)', 'Female Mortality before Age 40 (deaths under age 40 per 1,000 female live births)', 'Mortality before Age 60, both sexes (deaths under age 60 per 1,000 live births)', 'Male Mortality before Age 60 (deaths under age 60 per 1,000 male live births)', 'Female Mortality before Age 60 (deaths under age 60 per 1,000 female live births)', 'Mortality between Age 15 and 50, both sexes (deaths under age 50 per 1,000 alive at age 15)', 'Male Mortality between Age 15 and 50 (deaths under age 50 per 1,000 males alive at age 15)', 'Female Mortality between Age 15 and 50 (deaths under age 50 per 1,000 females alive at age 15)', 'Mortality between Age 15 and 60, both sexes (deaths under age 60 per 1,000 alive at age 15)', 'Male Mortality between Age 15 and 60 (deaths under age 60 per 1,000 males alive at age 15)', 'Female Mortality between Age 15 and 60 (deaths under age 60 per 1,000 females alive at age 15)', 'Net Number of Migrants (thousands)', 'Net Migration Rate (per 1,000 population)']\n"
     ]
    }
   ],
   "source": [
    "wpp = pd.read_excel(\"data/WPP2022_GEN_F01_DEMOGRAPHIC_INDICATORS_COMPACT_REV1.xlsx\", skiprows=16)\n",
    "print(wpp.columns.tolist())"
   ]
  },
  {
   "cell_type": "code",
   "execution_count": null,
   "id": "98680cee",
   "metadata": {},
   "outputs": [],
   "source": [
    "wpp = pd.read_excel(\"data/WPP2022_SA3_GEN_F01_DEMOGRAPHIC_INDICATORS.xlsx\", skiprows=16, usecols=[''])"
   ]
  },
  {
   "cell_type": "code",
   "execution_count": 3,
   "id": "05375aca",
   "metadata": {},
   "outputs": [
    {
     "name": "stdout",
     "output_type": "stream",
     "text": [
      "   Age Group  WHO World Standard (%)\n",
      "0        0-4                   8.860\n",
      "1        5-9                   8.690\n",
      "2      10-14                   8.600\n",
      "3      15-19                   8.470\n",
      "4      20-24                   8.220\n",
      "5      25-29                   7.930\n",
      "6      30-34                   7.610\n",
      "7      35-39                   7.150\n",
      "8      40-44                   6.590\n",
      "9      45-49                   6.040\n",
      "10     50-54                   5.370\n",
      "11     55-59                   4.550\n",
      "12     60-64                   3.720\n",
      "13     65-69                   2.960\n",
      "14     70-74                   2.210\n",
      "15     75-79                   1.520\n",
      "16     80-84                   0.910\n",
      "17     85-89                   0.440\n",
      "18     90-94                   0.150\n",
      "19     95-99                   0.040\n",
      "20      100+                   0.005\n"
     ]
    }
   ],
   "source": [
    "WHO_standard = pd.read_csv(\"data/WHO_World_Standard_from_NIH_NCI.csv\", usecols=['Age Group', 'WHO World Standard (%)'], skiprows=1, skipfooter=2, engine='python')\n",
    "print(WHO_standard)"
   ]
  },
  {
   "cell_type": "code",
   "execution_count": 4,
   "id": "a3d28e83",
   "metadata": {},
   "outputs": [
    {
     "name": "stdout",
     "output_type": "stream",
     "text": [
      "   Age group (years)  Death rate, United States, 2019  \\\n",
      "0                0-4                             0.04   \n",
      "1                5-9                             0.02   \n",
      "2              10-14                             0.02   \n",
      "3              15-19                             0.02   \n",
      "4              20-24                             0.06   \n",
      "5              25-29                             0.11   \n",
      "6              30-34                             0.29   \n",
      "7              35-39                             0.56   \n",
      "8              40-44                             1.42   \n",
      "9              45-49                             4.00   \n",
      "10             50-54                            14.13   \n",
      "11             55-59                            37.22   \n",
      "12             60-64                            66.48   \n",
      "13             65-69                           108.66   \n",
      "14             70-74                           213.10   \n",
      "15             75-79                           333.06   \n",
      "16             80-84                           491.10   \n",
      "17               85+                           894.45   \n",
      "\n",
      "    Death rate, Uganda, 2019  \n",
      "0                       0.40  \n",
      "1                       0.17  \n",
      "2                       0.07  \n",
      "3                       0.23  \n",
      "4                       0.38  \n",
      "5                       0.40  \n",
      "6                       0.75  \n",
      "7                       1.11  \n",
      "8                       2.04  \n",
      "9                       5.51  \n",
      "10                     13.26  \n",
      "11                     33.25  \n",
      "12                     69.62  \n",
      "13                    120.78  \n",
      "14                    229.88  \n",
      "15                    341.06  \n",
      "16                    529.31  \n",
      "17                    710.40  \n"
     ]
    }
   ],
   "source": [
    "copd = pd.read_csv(\"data/COPD_age-specific_USA_Uganda_2019.csv\", skiprows=1, skipfooter=2, engine='python')\n",
    "print(copd)"
   ]
  },
  {
   "cell_type": "code",
   "execution_count": null,
   "id": "e577f401",
   "metadata": {},
   "outputs": [],
   "source": []
  },
  {
   "cell_type": "code",
   "execution_count": null,
   "id": "4fbf1267",
   "metadata": {},
   "outputs": [],
   "source": []
  },
  {
   "cell_type": "code",
   "execution_count": null,
   "id": "3f27cf30",
   "metadata": {},
   "outputs": [],
   "source": []
  },
  {
   "cell_type": "code",
   "execution_count": null,
   "id": "c7221431",
   "metadata": {},
   "outputs": [],
   "source": []
  },
  {
   "cell_type": "code",
   "execution_count": null,
   "id": "dda24e1f",
   "metadata": {},
   "outputs": [],
   "source": []
  },
  {
   "cell_type": "code",
   "execution_count": null,
   "id": "80f32905",
   "metadata": {},
   "outputs": [],
   "source": []
  },
  {
   "cell_type": "code",
   "execution_count": null,
   "id": "b638dbc5",
   "metadata": {},
   "outputs": [],
   "source": []
  }
 ],
 "metadata": {
  "kernelspec": {
   "display_name": "Python [conda env:io_dsml]",
   "language": "python",
   "name": "conda-env-io_dsml-py"
  },
  "language_info": {
   "codemirror_mode": {
    "name": "ipython",
    "version": 3
   },
   "file_extension": ".py",
   "mimetype": "text/x-python",
   "name": "python",
   "nbconvert_exporter": "python",
   "pygments_lexer": "ipython3",
   "version": "3.11.6"
  }
 },
 "nbformat": 4,
 "nbformat_minor": 5
}
