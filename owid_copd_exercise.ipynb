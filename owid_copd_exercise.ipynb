{
 "cells": [
  {
   "cell_type": "markdown",
   "id": "013d7917",
   "metadata": {},
   "source": [
    "# COPD exercise for \"Our World in Data\"\n",
    "\n",
    "Given age-specific death rates from chronic obstructive pulmonary disease (COPD), for Uganda and the USA in 2019, calculate both crude death rate and age-standardized death rate for COPD for all ages. The numbers given are deaths per 100,000 people and the results should be stated in that form, to one decimal place.\n",
    "\n",
    "## Data sources\n",
    "\n",
    "1. UN WPP 2022. First I checked whether anything like the UN-provided WPP2022 R package exists for Python, but no equivalent was found . Then I weighed whether to learn the API https://population.un.org/dataportalapi/index.html but decided an xlsx download would be faster for a one-off task. At first the WPP2022 data I downloaded was Population total, but later I went back to acquire Population by \"5-year age groups, both sexes\". https://population.un.org/wpp/Download/Standard/Population/\n",
    "\n",
    "2. WHO Standard Population — Table 1 in 'Ahmad et al (2001). Age standardization of rates: a new WHO standard.' https://cdn.who.int/media/docs/default-source/gho-documents/global-health-estimates/gpe_discussion_paper_series_paper31_2001_age_standardization_rates.pdf\n",
    "Table copying from PDF was not clean, so to avoid manual actions (likely introducing error) I found https://seer.cancer.gov/stdpopulations/world.who.html\n",
    "\n",
    "3. The provided table was saved to COPD_age-specific_USA_Uganda_2019.csv\n",
    "\n",
    "## Calculation\n",
    "I don't know how to do this. ChatGPT advises:\n",
    "\n",
    "### Crude death rate\n",
    "For each country, sum the age-specific death rates across all age groups.\n",
    "Divide the total deaths by the total population of the country.\n",
    "Multiply the result by 100,000.\n",
    "\n",
    "### Age-Standardized death rate (ASDR)\n",
    "For each country, calculate the weighted average of the age-specific death rates using the WHO standard population percentages.\n",
    "Multiply the age-specific death rate for each age group by the corresponding WHO standard percentage.\n",
    "Sum up the weighted death rates across all age groups.\n",
    "Multiply the result by 100,000.\n",
    "\n",
    "## Report\n",
    "\n",
    "Initial results are wildly wrong:\n",
    "\n",
    "Crude Death Rate (CDR) per 100,000 population:\n",
    "USA: 0.6\n",
    "Uganda: 4.8\n",
    "\n",
    "Age-Standardized Death Rate (ASDR) per 100,000 population:\n",
    "USA: 2848211.1\n",
    "Uganda: 2872446.0\n",
    "\n",
    "Since the USA and Uganda have different age structures (USA older) if COPD mortality is higher in old age (assumption), then I would expect the ratio of death rates Uganda:USA to be higher for CDR than ASDR. "
   ]
  },
  {
   "cell_type": "code",
   "execution_count": 3,
   "id": "22de2746",
   "metadata": {},
   "outputs": [],
   "source": [
    "import numpy as np\n",
    "import pandas as pd\n",
    "import openpyxl as xl\n",
    "import math"
   ]
  },
  {
   "cell_type": "code",
   "execution_count": 4,
   "id": "f4a1b803",
   "metadata": {},
   "outputs": [
    {
     "name": "stdout",
     "output_type": "stream",
     "text": [
      "   Age group (years)  Death rate, United States, 2019  \\\n",
      "0                0-4                             0.04   \n",
      "1                5-9                             0.02   \n",
      "2              10-14                             0.02   \n",
      "3              15-19                             0.02   \n",
      "4              20-24                             0.06   \n",
      "5              25-29                             0.11   \n",
      "6              30-34                             0.29   \n",
      "7              35-39                             0.56   \n",
      "8              40-44                             1.42   \n",
      "9              45-49                             4.00   \n",
      "10             50-54                            14.13   \n",
      "11             55-59                            37.22   \n",
      "12             60-64                            66.48   \n",
      "13             65-69                           108.66   \n",
      "14             70-74                           213.10   \n",
      "15             75-79                           333.06   \n",
      "16             80-84                           491.10   \n",
      "17               85+                           894.45   \n",
      "\n",
      "    Death rate, Uganda, 2019  \n",
      "0                       0.40  \n",
      "1                       0.17  \n",
      "2                       0.07  \n",
      "3                       0.23  \n",
      "4                       0.38  \n",
      "5                       0.40  \n",
      "6                       0.75  \n",
      "7                       1.11  \n",
      "8                       2.04  \n",
      "9                       5.51  \n",
      "10                     13.26  \n",
      "11                     33.25  \n",
      "12                     69.62  \n",
      "13                    120.78  \n",
      "14                    229.88  \n",
      "15                    341.06  \n",
      "16                    529.31  \n",
      "17                    710.40  \n"
     ]
    }
   ],
   "source": [
    "# Began with source 3\n",
    "COPD_original = pd.read_csv(\"data/COPD_age-specific_USA_Uganda_2019.csv\", skiprows=1, skipfooter=2, engine='python')\n",
    "print(COPD_original)\n",
    "# death rates per 100,000 population"
   ]
  },
  {
   "cell_type": "code",
   "execution_count": 5,
   "id": "44eb519d",
   "metadata": {},
   "outputs": [
    {
     "name": "stdout",
     "output_type": "stream",
     "text": [
      "   Age group  WHO World Standard (%)\n",
      "0        0-4                   8.860\n",
      "1        5-9                   8.690\n",
      "2      10-14                   8.600\n",
      "3      15-19                   8.470\n",
      "4      20-24                   8.220\n",
      "5      25-29                   7.930\n",
      "6      30-34                   7.610\n",
      "7      35-39                   7.150\n",
      "8      40-44                   6.590\n",
      "9      45-49                   6.040\n",
      "10     50-54                   5.370\n",
      "11     55-59                   4.550\n",
      "12     60-64                   3.720\n",
      "13     65-69                   2.960\n",
      "14     70-74                   2.210\n",
      "15     75-79                   1.520\n",
      "16     80-84                   0.910\n",
      "17     85-89                   0.440\n",
      "18     90-94                   0.150\n",
      "19     95-99                   0.040\n",
      "20      100+                   0.005\n"
     ]
    }
   ],
   "source": [
    "# Next, source 2\n",
    "WHO_standard = pd.read_csv(\"data/WHO_World_Standard_from_NIH_NCI.csv\", usecols=['Age Group', 'WHO World Standard (%)'], skiprows=1, skipfooter=2, engine='python')\n",
    "WHO_standard = WHO_standard.rename(columns={\n",
    "    'Age Group': 'Age group'\n",
    "})\n",
    "print(WHO_standard)"
   ]
  },
  {
   "cell_type": "code",
   "execution_count": 6,
   "id": "8d0b2636",
   "metadata": {},
   "outputs": [
    {
     "name": "stdout",
     "output_type": "stream",
     "text": [
      "0.635\n"
     ]
    }
   ],
   "source": [
    "# In COPD data the final row is age 85+\n",
    "# so for compatibility merge older cohorts in NIH's WHO_standard.\n",
    "# Check it matches the percentage in Ahmad et al paper's table 1 85+ row (0.63%)\n",
    "sum_percentage = WHO_standard.iloc[-4:]['WHO World Standard (%)'].sum()\n",
    "print(sum_percentage)"
   ]
  },
  {
   "cell_type": "code",
   "execution_count": 7,
   "id": "07137570",
   "metadata": {},
   "outputs": [
    {
     "name": "stdout",
     "output_type": "stream",
     "text": [
      "   Age group  WHO World Standard (%)\n",
      "0        0-4                   8.860\n",
      "1        5-9                   8.690\n",
      "2      10-14                   8.600\n",
      "3      15-19                   8.470\n",
      "4      20-24                   8.220\n",
      "5      25-29                   7.930\n",
      "6      30-34                   7.610\n",
      "7      35-39                   7.150\n",
      "8      40-44                   6.590\n",
      "9      45-49                   6.040\n",
      "10     50-54                   5.370\n",
      "11     55-59                   4.550\n",
      "12     60-64                   3.720\n",
      "13     65-69                   2.960\n",
      "14     70-74                   2.210\n",
      "15     75-79                   1.520\n",
      "16     80-84                   0.910\n",
      "17       85+                   0.635\n"
     ]
    }
   ],
   "source": [
    "# delete last 4 rows, create new 85+ row\n",
    "WHO_standard.drop(WHO_standard.index[-4:], inplace=True)\n",
    "new_row = pd.DataFrame({'Age group': ['85+'], 'WHO World Standard (%)': [sum_percentage]})\n",
    "WHO_standard = pd.concat([WHO_standard, new_row], ignore_index=True)\n",
    "print(WHO_standard)\n",
    "\n",
    "# alternative one-step method\n",
    "# WHO_standard = pd.concat([WHO_standard.iloc[:-4], new_row], ignore_index=True)"
   ]
  },
  {
   "cell_type": "code",
   "execution_count": null,
   "id": "d4bc2267",
   "metadata": {},
   "outputs": [],
   "source": [
    "# Lastly, source 1\n",
    "wpp = pd.read_excel(\"data/WPP2022_GEN_F01_DEMOGRAPHIC_INDICATORS_COMPACT_REV1.xlsx\", skiprows=16)\n",
    "# first pass inspect columns and identify those needed\n",
    "print(wpp.columns.tolist())"
   ]
  },
  {
   "cell_type": "code",
   "execution_count": 33,
   "id": "d8be3e75",
   "metadata": {},
   "outputs": [
    {
     "name": "stdout",
     "output_type": "stream",
     "text": [
      "['Region, subregion, country or area *', 'Year', 'Total Population, as of 1 July (thousands)', 'Crude Death Rate (deaths per 1,000 population)']\n"
     ]
    }
   ],
   "source": [
    "# In early effort I also retrieved CDR (all causes) which is not needed.\n",
    "wpp_originalColNames = pd.read_excel(\"data/WPP2022_GEN_F01_DEMOGRAPHIC_INDICATORS_COMPACT_REV1.xlsx\", skiprows=16, usecols=['Region, subregion, country or area *', 'Year', 'Total Population, as of 1 July (thousands)', 'Crude Death Rate (deaths per 1,000 population)'])\n",
    "print(wpp_originalColNames.columns.tolist())"
   ]
  },
  {
   "cell_type": "code",
   "execution_count": 34,
   "id": "18a78e63",
   "metadata": {},
   "outputs": [
    {
     "name": "stdout",
     "output_type": "stream",
     "text": [
      "['Country', 'Year', 'Population', 'CDR']\n"
     ]
    }
   ],
   "source": [
    "# short column names, in case this needs interact with other two data sources. \n",
    "wpp = wpp_originalColNames.rename(columns={\n",
    "    'Region, subregion, country or area *': 'Country',\n",
    "    'Total Population, as of 1 July (thousands)': 'Population',\n",
    "    'Crude Death Rate (deaths per 1,000 population)': 'CDR'\n",
    "})\n",
    "print(wpp.columns.tolist())"
   ]
  },
  {
   "cell_type": "code",
   "execution_count": 12,
   "id": "a5ef7d44",
   "metadata": {},
   "outputs": [
    {
     "name": "stdout",
     "output_type": "stream",
     "text": [
      "Country             WORLD\n",
      "Year               1950.0\n",
      "Population    2499322.157\n",
      "CDR                19.518\n",
      "Name: 0, dtype: object\n"
     ]
    }
   ],
   "source": [
    "print(wpp.iloc[0])"
   ]
  },
  {
   "cell_type": "code",
   "execution_count": 13,
   "id": "a096b883",
   "metadata": {},
   "outputs": [],
   "source": [
    "# 'Year' is blank cell in row between each country\n",
    "# prepare to restore Year to 4-digit form\n",
    "wpp.dropna(subset=['Year'], inplace=True)"
   ]
  },
  {
   "cell_type": "code",
   "execution_count": 15,
   "id": "2c38ec0f",
   "metadata": {},
   "outputs": [
    {
     "name": "stdout",
     "output_type": "stream",
     "text": [
      "1950\n"
     ]
    }
   ],
   "source": [
    "wpp['Year'] = wpp['Year'].astype(int)\n",
    "print(wpp.iloc[0]['Year'])"
   ]
  },
  {
   "cell_type": "code",
   "execution_count": 17,
   "id": "860c6815",
   "metadata": {},
   "outputs": [
    {
     "name": "stdout",
     "output_type": "stream",
     "text": [
      "                        Country  Year  Population     CDR\n",
      "2884                     Uganda  1950    5750.637  25.067\n",
      "2885                     Uganda  1951    5909.819  24.859\n",
      "2886                     Uganda  1952    6073.833   24.36\n",
      "2887                     Uganda  1953    6243.883  23.845\n",
      "2888                     Uganda  1954    6419.882  23.318\n",
      "...                         ...   ...         ...     ...\n",
      "18575  United States of America  2017  329791.231   8.424\n",
      "18576  United States of America  2018  332140.037   8.387\n",
      "18577  United States of America  2019  334319.671   8.325\n",
      "18578  United States of America  2020  335942.003   9.651\n",
      "18579  United States of America  2021  336997.624   9.743\n",
      "\n",
      "[144 rows x 4 columns]\n"
     ]
    }
   ],
   "source": [
    "# Filter Uganda and USA\n",
    "wpp_country_filter = wpp[(wpp['Country'] == 'United States of America') | (wpp['Country'] == 'Uganda')]\n",
    "print(wpp_country_filter)\n",
    "# I bet long-form \"United States of America\" will require changing later."
   ]
  },
  {
   "cell_type": "code",
   "execution_count": 18,
   "id": "90ecd5d9",
   "metadata": {},
   "outputs": [
    {
     "name": "stdout",
     "output_type": "stream",
     "text": [
      "                        Country  Year  Population    CDR\n",
      "2953                     Uganda  2019    42949.08  5.823\n",
      "18577  United States of America  2019  334319.671  8.325\n"
     ]
    }
   ],
   "source": [
    "# Filter year 2019\n",
    "WPP_2019 = wpp_country_filter[wpp_country_filter['Year'] == 2019]\n",
    "print(WPP_2019)\n",
    "# Population data unit is 1,000 - a thousand"
   ]
  },
  {
   "cell_type": "code",
   "execution_count": 27,
   "id": "86f64d41",
   "metadata": {},
   "outputs": [
    {
     "name": "stdout",
     "output_type": "stream",
     "text": [
      "Population total number in 2019\n",
      "Uganda  42949080\n",
      "USA    334319671\n"
     ]
    }
   ],
   "source": [
    "# Total population of each of the 2 countries\n",
    "population_usa = WPP_2019.loc[WPP_2019['Country'] == 'United States of America', 'Population'].values[0] * 1000\n",
    "population_uganda = WPP_2019.loc[WPP_2019['Country'] == 'Uganda', 'Population'].values[0] * 1000\n",
    "print(\"Population total number in 2019\")\n",
    "print(\"Uganda  {}\".format(math.trunc(population_uganda)))\n",
    "print(\"USA    {}\".format(math.trunc(population_usa)))"
   ]
  },
  {
   "cell_type": "code",
   "execution_count": 20,
   "id": "602d1ea2",
   "metadata": {},
   "outputs": [
    {
     "name": "stdout",
     "output_type": "stream",
     "text": [
      "   Age group  Death rate, United States, 2019  Death rate, Uganda, 2019\n",
      "0        0-4                             0.04                      0.40\n",
      "1        5-9                             0.02                      0.17\n",
      "2      10-14                             0.02                      0.07\n",
      "3      15-19                             0.02                      0.23\n",
      "4      20-24                             0.06                      0.38\n",
      "5      25-29                             0.11                      0.40\n",
      "6      30-34                             0.29                      0.75\n",
      "7      35-39                             0.56                      1.11\n",
      "8      40-44                             1.42                      2.04\n",
      "9      45-49                             4.00                      5.51\n",
      "10     50-54                            14.13                     13.26\n",
      "11     55-59                            37.22                     33.25\n",
      "12     60-64                            66.48                     69.62\n",
      "13     65-69                           108.66                    120.78\n",
      "14     70-74                           213.10                    229.88\n",
      "15     75-79                           333.06                    341.06\n",
      "16     80-84                           491.10                    529.31\n",
      "17       85+                           894.45                    710.40\n"
     ]
    }
   ],
   "source": [
    "# harmonise age column name with WHO Standard Popualtion Distribution\n",
    "# COPD = COPD_original.copy()\n",
    "COPD = COPD_original.rename(columns={\n",
    "    'Age group (years)': 'Age group'\n",
    "})\n",
    "print(COPD)"
   ]
  },
  {
   "cell_type": "code",
   "execution_count": null,
   "id": "a04b0b8d",
   "metadata": {},
   "outputs": [],
   "source": [
    "# Data ready, begin calculations (with help from ChatGPT)\n",
    "# (more harmonising of column names may be needed)\n",
    "\n",
    "# Death rates are conventionally expressed as a number per 100,000\n",
    "\n",
    "# WHO World Standard is a percentage so need to divide by 100"
   ]
  },
  {
   "cell_type": "code",
   "execution_count": 28,
   "id": "b5dda721",
   "metadata": {},
   "outputs": [
    {
     "name": "stdout",
     "output_type": "stream",
     "text": [
      "Crude Death Rate (CDR) per 100,000 population:\n",
      "Uganda: 4.8\n",
      "United States of America: 0.6\n"
     ]
    }
   ],
   "source": [
    "# Calculate Crude Death Rate (CDR) for each country\n",
    "total_deaths_usa = COPD['Death rate, United States, 2019'].sum()\n",
    "total_deaths_uganda = COPD['Death rate, Uganda, 2019'].sum()\n",
    "\n",
    "cdr_usa = (total_deaths_usa / population_usa) * 100000\n",
    "cdr_uganda = (total_deaths_uganda / population_uganda) * 100000\n",
    "\n",
    "print(\"Crude Death Rate (CDR) per 100,000 population:\")\n",
    "print(\"Uganda:\", round(cdr_uganda, 1))\n",
    "print(\"United States of America:\", round(cdr_usa, 1))"
   ]
  },
  {
   "cell_type": "code",
   "execution_count": 24,
   "id": "c661aa8c",
   "metadata": {},
   "outputs": [
    {
     "name": "stdout",
     "output_type": "stream",
     "text": [
      "Crude Death Rate (CDR) per 100,000 population:\n",
      "Uganda: 4793.2\n",
      "United States of America: 647.5\n"
     ]
    }
   ],
   "source": [
    "# Calculate Crude Death Rate (CDR) for each country\n",
    "total_deaths_usa = COPD['Death rate, United States, 2019'].sum()\n",
    "total_deaths_uganda = COPD['Death rate, Uganda, 2019'].sum()\n",
    "\n",
    "# original WPP numbers are in thousands\n",
    "population_usa = WPP_2019.loc[WPP_2019['Country'] == 'United States of America', 'Population'].values[0]\n",
    "population_uganda = WPP_2019.loc[WPP_2019['Country'] == 'Uganda', 'Population'].values[0]\n",
    "\n",
    "cdr_usa = (total_deaths_usa / population_usa) * 100000\n",
    "cdr_uganda = (total_deaths_uganda / population_uganda) * 100000\n",
    "\n",
    "print(\"Crude Death Rate (CDR) per 100,000 population:\")\n",
    "print(\"Uganda:\", round(cdr_uganda, 1))\n",
    "print(\"United States of America:\", round(cdr_usa, 1))"
   ]
  },
  {
   "cell_type": "code",
   "execution_count": 29,
   "id": "2b71be6b",
   "metadata": {},
   "outputs": [
    {
     "name": "stdout",
     "output_type": "stream",
     "text": [
      "Age-Standardized Death Rate (ASDR) per 100,000 population:\n",
      "USA: 2848211.1\n",
      "Uganda: 2872446.0\n"
     ]
    }
   ],
   "source": [
    "# Calculate Age-Standardized Death Rate (ASDR) for each country\n",
    "asdr_usa = 0\n",
    "asdr_uganda = 0\n",
    "\n",
    "for i, row in COPD.iterrows():\n",
    "    asdr_usa += row['Death rate, United States, 2019'] * WHO_standard.loc[i, 'WHO World Standard (%)'] / 100\n",
    "    asdr_uganda += row['Death rate, Uganda, 2019'] * WHO_standard.loc[i, 'WHO World Standard (%)'] / 100\n",
    "\n",
    "asdr_usa *= 100000\n",
    "asdr_uganda *= 100000\n",
    "\n",
    "print(\"Age-Standardized Death Rate (ASDR) per 100,000 population:\")\n",
    "print(\"USA:\", round(asdr_usa, 1))\n",
    "print(\"Uganda:\", round(asdr_uganda, 1))"
   ]
  },
  {
   "cell_type": "code",
   "execution_count": null,
   "id": "0ace8a8d",
   "metadata": {},
   "outputs": [],
   "source": [
    "# Are these results in ballpark of reality e.g. USA COPD rates should be easy to find\n",
    "# or orders of magnitude wrong?\n",
    "# Ran out of time...\n",
    "# Did I need WPP source total population breaking down by age cohort?"
   ]
  },
  {
   "cell_type": "code",
   "execution_count": 31,
   "id": "8fbb48bd",
   "metadata": {},
   "outputs": [
    {
     "name": "stdout",
     "output_type": "stream",
     "text": [
      "COPD Crude Death Rate for Uganda: 0\n",
      "COPD Crude Death Rate for USA: 0\n",
      "Age-Standardized Death Rate for COPD in Uganda: 28\n",
      "Age-Standardized Death Rate for COPD in USA: 28\n"
     ]
    }
   ],
   "source": [
    "# Earlier approach (from Gemini!)\n",
    "ASDR_usa = 0\n",
    "ASDR_uganda = 0\n",
    "total_deaths_usa = 0\n",
    "total_deaths_uganda = 0\n",
    "\n",
    "for index, row in COPD.iterrows():\n",
    "    age_group = row['Age group']\n",
    "    death_rate_usa = row['Death rate, United States, 2019']\n",
    "    death_rate_uganda = row['Death rate, Uganda, 2019']\n",
    "    WHO_standard_percentage = WHO_standard.loc[WHO_standard['Age group'] == age_group, 'WHO World Standard (%)'].values[0]\n",
    "\n",
    "    total_deaths_usa += death_rate_usa\n",
    "    total_deaths_uganda += death_rate_uganda\n",
    "    \n",
    "    ASDR_usa += (death_rate_usa * WHO_standard_percentage / 100)\n",
    "    ASDR_uganda += (death_rate_uganda * WHO_standard_percentage / 100)\n",
    "\n",
    "# Calculate Crude Death Rate (CDR)\n",
    "crude_death_rate_usa = (total_deaths_usa / population_usa) \n",
    "crude_death_rate_uganda = (total_deaths_uganda / population_uganda)\n",
    "\n",
    "print(\"COPD Crude Death Rate for Uganda:\", math.trunc(crude_death_rate_uganda))\n",
    "print(\"COPD Crude Death Rate for USA:\", math.trunc(crude_death_rate_usa))\n",
    "\n",
    "print(\"Age-Standardized Death Rate for COPD in Uganda:\", math.trunc(ASDR_uganda))\n",
    "print(\"Age-Standardized Death Rate for COPD in USA:\", math.trunc(ASDR_usa))\n"
   ]
  },
  {
   "cell_type": "code",
   "execution_count": null,
   "id": "dffbce13",
   "metadata": {},
   "outputs": [],
   "source": [
    "# No, those results clearly wrong, go back to results from first formula, which at least don't feature any zeros!"
   ]
  },
  {
   "cell_type": "code",
   "execution_count": null,
   "id": "81f146cf",
   "metadata": {},
   "outputs": [],
   "source": []
  },
  {
   "cell_type": "code",
   "execution_count": null,
   "id": "5c72d34f",
   "metadata": {},
   "outputs": [],
   "source": []
  },
  {
   "cell_type": "code",
   "execution_count": null,
   "id": "d13a34d6",
   "metadata": {},
   "outputs": [],
   "source": []
  }
 ],
 "metadata": {
  "kernelspec": {
   "display_name": "Python [conda env:io_dsml]",
   "language": "python",
   "name": "conda-env-io_dsml-py"
  },
  "language_info": {
   "codemirror_mode": {
    "name": "ipython",
    "version": 3
   },
   "file_extension": ".py",
   "mimetype": "text/x-python",
   "name": "python",
   "nbconvert_exporter": "python",
   "pygments_lexer": "ipython3",
   "version": "3.11.6"
  }
 },
 "nbformat": 4,
 "nbformat_minor": 5
}
